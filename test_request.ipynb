{
 "cells": [
  {
   "cell_type": "code",
   "execution_count": 42,
   "id": "0054d82c-ab91-410f-a738-268b454c2405",
   "metadata": {},
   "outputs": [
    {
     "name": "stdout",
     "output_type": "stream",
     "text": [
      "Defaulting to user installation because normal site-packages is not writeable\n",
      "Requirement already satisfied: matplotlib in /Users/ravelriik/Library/Python/3.9/lib/python/site-packages (3.9.1)\n",
      "Requirement already satisfied: contourpy>=1.0.1 in /Users/ravelriik/Library/Python/3.9/lib/python/site-packages (from matplotlib) (1.2.1)\n",
      "Requirement already satisfied: cycler>=0.10 in /Users/ravelriik/Library/Python/3.9/lib/python/site-packages (from matplotlib) (0.12.1)\n",
      "Requirement already satisfied: fonttools>=4.22.0 in /Users/ravelriik/Library/Python/3.9/lib/python/site-packages (from matplotlib) (4.53.1)\n",
      "Requirement already satisfied: kiwisolver>=1.3.1 in /Users/ravelriik/Library/Python/3.9/lib/python/site-packages (from matplotlib) (1.4.5)\n",
      "Requirement already satisfied: numpy>=1.23 in /Users/ravelriik/Library/Python/3.9/lib/python/site-packages (from matplotlib) (2.0.0)\n",
      "Requirement already satisfied: packaging>=20.0 in /Users/ravelriik/Library/Python/3.9/lib/python/site-packages (from matplotlib) (24.1)\n",
      "Requirement already satisfied: pillow>=8 in /Users/ravelriik/Library/Python/3.9/lib/python/site-packages (from matplotlib) (10.4.0)\n",
      "Requirement already satisfied: pyparsing>=2.3.1 in /Users/ravelriik/Library/Python/3.9/lib/python/site-packages (from matplotlib) (3.1.2)\n",
      "Requirement already satisfied: python-dateutil>=2.7 in /Users/ravelriik/Library/Python/3.9/lib/python/site-packages (from matplotlib) (2.9.0.post0)\n",
      "Requirement already satisfied: importlib-resources>=3.2.0 in /Users/ravelriik/Library/Python/3.9/lib/python/site-packages (from matplotlib) (6.4.0)\n",
      "Requirement already satisfied: zipp>=3.1.0 in /Users/ravelriik/Library/Python/3.9/lib/python/site-packages (from importlib-resources>=3.2.0->matplotlib) (3.19.2)\n",
      "Requirement already satisfied: six>=1.5 in /Library/Developer/CommandLineTools/Library/Frameworks/Python3.framework/Versions/3.9/lib/python3.9/site-packages (from python-dateutil>=2.7->matplotlib) (1.15.0)\n",
      "Note: you may need to restart the kernel to use updated packages.\n"
     ]
    }
   ],
   "source": [
    "pip install matplotlib"
   ]
  },
  {
   "cell_type": "code",
   "execution_count": 43,
   "id": "b31bce5a-a0a2-4e87-893b-8907445c30e3",
   "metadata": {},
   "outputs": [],
   "source": [
    "import requests\n",
    "import pandas as pd\n",
    "import matplotlib.pyplot as plt"
   ]
  },
  {
   "cell_type": "code",
   "execution_count": 44,
   "id": "ee56b754-b151-46c4-b531-1650dcf821b4",
   "metadata": {},
   "outputs": [],
   "source": [
    "base_url = 'http://127.0.0.1:5000'"
   ]
  },
  {
   "cell_type": "code",
   "execution_count": 46,
   "id": "873c9883-d388-4cf2-ab74-2cc08cbfa735",
   "metadata": {},
   "outputs": [
    {
     "data": {
      "text/plain": [
       "'http://127.0.0.1:5000/help'"
      ]
     },
     "execution_count": 46,
     "metadata": {},
     "output_type": "execute_result"
    }
   ],
   "source": [
    "base_url + '/help'"
   ]
  },
  {
   "cell_type": "code",
   "execution_count": 49,
   "id": "70677ab6-8f10-4721-b209-ed2aa99e65e6",
   "metadata": {},
   "outputs": [
    {
     "data": {
      "text/plain": [
       "{'code': 200,\n",
       " 'data': [{'/': 'API base URL'},\n",
       "  {'/help': 'Print all defined routes and their endpoint docstrings.'},\n",
       "  {'/severity/dist': 'Base severity distribution.'},\n",
       "  {'/severity/year': 'Base severity change over time'},\n",
       "  {'/worst_products_platforms/<string:prod_or_plat>': 'Get top 10 worst products/platforms. Variable prod_or_plat = [product,platform]'},\n",
       "  {'/top_vul/<int:cvss_ver>/<string:score>': 'Get top 10 vulnerabilities based on the score and cvss version. cvss_ver = [2,3] & score = [impact_score,exploitability_score]'},\n",
       "  {'/cve_or_prod/<string:cve_or_prod>/<string:id>': 'Possibility to query information about either CSV (https://nvd.nist.gov/vuln/search) or product ID (https://nvd.nist.gov/products/cpe/search)'}]}"
      ]
     },
     "execution_count": 49,
     "metadata": {},
     "output_type": "execute_result"
    }
   ],
   "source": [
    "#help\n",
    "response = requests.get(base_url + '/help')\n",
    "response = response.json()\n",
    "response"
   ]
  },
  {
   "cell_type": "code",
   "execution_count": 50,
   "id": "9b11911b-3269-4485-91f0-e330598c1483",
   "metadata": {},
   "outputs": [
    {
     "data": {
      "text/plain": [
       "{'severity_distribution': [{'CRITICAL': 7216},\n",
       "  {'LOW': 14657},\n",
       "  {'HIGH': 65123},\n",
       "  {'MEDIUM': 93112}]}"
      ]
     },
     "execution_count": 50,
     "metadata": {},
     "output_type": "execute_result"
    }
   ],
   "source": [
    "#severity distribution\n",
    "\n",
    "response_cve = requests.get(base_url + '/severity/dist')\n",
    "response = response_cve.json()\n",
    "response"
   ]
  },
  {
   "cell_type": "code",
   "execution_count": 51,
   "id": "6b7c5254-e29d-43c7-8115-4965436c8b2b",
   "metadata": {},
   "outputs": [
    {
     "data": {
      "text/plain": [
       "{'severity_distribution': [{'avg_base_severity': 2.0,\n",
       "   'n_cve': 2,\n",
       "   'year': '1988'},\n",
       "  {'avg_base_severity': 1.67, 'n_cve': 3, 'year': '1989'},\n",
       "  {'avg_base_severity': 1.64, 'n_cve': 11, 'year': '1990'},\n",
       "  {'avg_base_severity': 1.73, 'n_cve': 15, 'year': '1991'},\n",
       "  {'avg_base_severity': 1.85, 'n_cve': 13, 'year': '1992'},\n",
       "  {'avg_base_severity': 1.46, 'n_cve': 13, 'year': '1993'},\n",
       "  {'avg_base_severity': 1.52, 'n_cve': 25, 'year': '1994'},\n",
       "  {'avg_base_severity': 1.68, 'n_cve': 25, 'year': '1995'},\n",
       "  {'avg_base_severity': 1.47, 'n_cve': 74, 'year': '1996'},\n",
       "  {'avg_base_severity': 1.49, 'n_cve': 252, 'year': '1997'},\n",
       "  {'avg_base_severity': 1.46, 'n_cve': 246, 'year': '1998'},\n",
       "  {'avg_base_severity': 1.34, 'n_cve': 894, 'year': '1999'},\n",
       "  {'avg_base_severity': 1.35, 'n_cve': 1018, 'year': '2000'},\n",
       "  {'avg_base_severity': 1.35, 'n_cve': 1673, 'year': '2001'},\n",
       "  {'avg_base_severity': 1.39, 'n_cve': 2149, 'year': '2002'},\n",
       "  {'avg_base_severity': 1.38, 'n_cve': 1523, 'year': '2003'},\n",
       "  {'avg_base_severity': 1.31, 'n_cve': 2440, 'year': '2004'},\n",
       "  {'avg_base_severity': 1.32, 'n_cve': 4896, 'year': '2005'},\n",
       "  {'avg_base_severity': 1.33, 'n_cve': 6485, 'year': '2006'},\n",
       "  {'avg_base_severity': 1.45, 'n_cve': 6389, 'year': '2007'},\n",
       "  {'avg_base_severity': 1.47, 'n_cve': 5604, 'year': '2008'},\n",
       "  {'avg_base_severity': 1.44, 'n_cve': 5701, 'year': '2009'},\n",
       "  {'avg_base_severity': 1.39, 'n_cve': 4591, 'year': '2010'},\n",
       "  {'avg_base_severity': 1.36, 'n_cve': 4135, 'year': '2011'},\n",
       "  {'avg_base_severity': 1.23, 'n_cve': 5211, 'year': '2012'},\n",
       "  {'avg_base_severity': 1.23, 'n_cve': 5149, 'year': '2013'},\n",
       "  {'avg_base_severity': 1.16, 'n_cve': 7891, 'year': '2014'},\n",
       "  {'avg_base_severity': 1.28, 'n_cve': 6453, 'year': '2015'},\n",
       "  {'avg_base_severity': 1.64, 'n_cve': 6407, 'year': '2016'},\n",
       "  {'avg_base_severity': 1.67, 'n_cve': 14499, 'year': '2017'},\n",
       "  {'avg_base_severity': 1.72, 'n_cve': 16329, 'year': '2018'},\n",
       "  {'avg_base_severity': 1.44, 'n_cve': 17055, 'year': '2019'},\n",
       "  {'avg_base_severity': 1.15, 'n_cve': 18166, 'year': '2020'},\n",
       "  {'avg_base_severity': 1.08, 'n_cve': 19897, 'year': '2021'},\n",
       "  {'avg_base_severity': 1.19, 'n_cve': 13683, 'year': '2022'},\n",
       "  {'avg_base_severity': 1.61, 'n_cve': 1144, 'year': '2023'},\n",
       "  {'avg_base_severity': 1.79, 'n_cve': 47, 'year': '2024'}]}"
      ]
     },
     "execution_count": 51,
     "metadata": {},
     "output_type": "execute_result"
    }
   ],
   "source": [
    "#severity change over time\n",
    "response_cve = requests.get(base_url + '/severity/year')\n",
    "response = response_cve.json()\n",
    "response"
   ]
  },
  {
   "cell_type": "code",
   "execution_count": 52,
   "id": "e760480e-ef88-4f60-a743-ca63e4ecc5fc",
   "metadata": {
    "scrolled": true
   },
   "outputs": [
    {
     "data": {
      "image/png": "[encoded data removed]",
      "text/plain": [
       "<Figure size 640x480 with 2 Axes>"
      ]
     },
     "metadata": {},
     "output_type": "display_data"
    }
   ],
   "source": [
    "df_raw = response['severity_distribution']\n",
    "df_raw\n",
    "\n",
    "#plot\n",
    "df = pd.DataFrame(df_raw)\n",
    "\n",
    "fig, ax1 = plt.subplots()\n",
    "\n",
    "# Plotting the bar plot\n",
    "ax1.bar(df['year'], df['n_cve'], color='b', alpha=0.6)\n",
    "ax1.set_xlabel('Year')\n",
    "ax1.set_ylabel('# of CVEs', color='b')\n",
    "\n",
    "# Rotating the x-axis labels\n",
    "plt.xticks(rotation=90)\n",
    "\n",
    "# Creating the secondary axis for the line plot\n",
    "ax2 = ax1.twinx()\n",
    "ax2.plot(df['year'], df['avg_base_severity'], color='r', marker='o')\n",
    "ax2.set_ylabel('Avg base severity', color='r')\n",
    "\n",
    "# Showing the plot\n",
    "plt.title('# of CVEs and base severity change over time')\n",
    "plt.show()"
   ]
  },
  {
   "cell_type": "code",
   "execution_count": 54,
   "id": "fd0f292f-de52-4ca5-a42e-d2407928a07d",
   "metadata": {},
   "outputs": [
    {
     "name": "stdout",
     "output_type": "stream",
     "text": [
      "product\n"
     ]
    },
    {
     "data": {
      "text/plain": [
       "{'result': [{'n_cve': 82674, 'product': 'linux_kernel', 'vendor': 'linux'},\n",
       "  {'n_cve': 46952, 'product': 'ios', 'vendor': 'cisco'},\n",
       "  {'n_cve': 30584, 'product': 'junos', 'vendor': 'juniper'},\n",
       "  {'n_cve': 28142, 'product': 'chrome', 'vendor': 'google'},\n",
       "  {'n_cve': 21535, 'product': 'firefox', 'vendor': 'mozilla'},\n",
       "  {'n_cve': 20084, 'product': 'opera_browser', 'vendor': 'opera'},\n",
       "  {'n_cve': 17418, 'product': 'windows_10', 'vendor': 'microsoft'},\n",
       "  {'n_cve': 15863, 'product': 'safari', 'vendor': 'apple'},\n",
       "  {'n_cve': 15659, 'product': 'android', 'vendor': 'google'},\n",
       "  {'n_cve': 15592, 'product': 'mac_os_x', 'vendor': 'apple'}],\n",
       " 'type': 'product'}"
      ]
     },
     "metadata": {},
     "output_type": "display_data"
    },
    {
     "name": "stdout",
     "output_type": "stream",
     "text": [
      "\n",
      "\n",
      "platform\n"
     ]
    },
    {
     "data": {
      "text/plain": [
       "{'result': [{'n_cve': 96154, 'vendor': 'cisco'},\n",
       "  {'n_cve': 82912, 'vendor': 'linux'},\n",
       "  {'n_cve': 70813, 'vendor': 'microsoft'},\n",
       "  {'n_cve': 69973, 'vendor': 'apple'},\n",
       "  {'n_cve': 50858, 'vendor': 'ibm'},\n",
       "  {'n_cve': 46840, 'vendor': 'google'},\n",
       "  {'n_cve': 40769, 'vendor': 'mozilla'},\n",
       "  {'n_cve': 39266, 'vendor': 'adobe'},\n",
       "  {'n_cve': 33151, 'vendor': 'oracle'},\n",
       "  {'n_cve': 32298, 'vendor': 'juniper'}],\n",
       " 'type': 'platform'}"
      ]
     },
     "metadata": {},
     "output_type": "display_data"
    },
    {
     "name": "stdout",
     "output_type": "stream",
     "text": [
      "\n",
      "\n"
     ]
    }
   ],
   "source": [
    "#Worst Products, Platforms\n",
    "for i in ['product','platform']:\n",
    "    response_cve = requests.get(base_url + f'/worst_products_platforms/{i}')\n",
    "    response = response_cve.json()\n",
    "    print(f'{i}')\n",
    "    display(response)\n",
    "    print('\\n')"
   ]
  },
  {
   "cell_type": "code",
   "execution_count": 61,
   "id": "ee1a885e-9309-4c97-bcb6-05e9aff29df1",
   "metadata": {},
   "outputs": [
    {
     "name": "stdout",
     "output_type": "stream",
     "text": [
      "2, impact_score\n"
     ]
    },
    {
     "data": {
      "text/plain": [
       "{'cvss_ver': 2,\n",
       " 'result': [{'avg_score': 6.4,\n",
       "   'n_cve': 19314,\n",
       "   'sum_score': 123609.6,\n",
       "   'vector_string': 'AV:N/AC:L/Au:N/C:P/I:P/A:P'},\n",
       "  {'avg_score': 10.0,\n",
       "   'n_cve': 6822,\n",
       "   'sum_score': 68220.0,\n",
       "   'vector_string': 'AV:N/AC:L/Au:N/C:C/I:C/A:C'},\n",
       "  {'avg_score': 6.4,\n",
       "   'n_cve': 9451,\n",
       "   'sum_score': 60486.4,\n",
       "   'vector_string': 'AV:N/AC:M/Au:N/C:P/I:P/A:P'},\n",
       "  {'avg_score': 10.0,\n",
       "   'n_cve': 5998,\n",
       "   'sum_score': 59980.0,\n",
       "   'vector_string': 'AV:N/AC:M/Au:N/C:C/I:C/A:C'},\n",
       "  {'avg_score': 10.0,\n",
       "   'n_cve': 4665,\n",
       "   'sum_score': 46650.0,\n",
       "   'vector_string': 'AV:L/AC:L/Au:N/C:C/I:C/A:C'},\n",
       "  {'avg_score': 2.9,\n",
       "   'n_cve': 13053,\n",
       "   'sum_score': 37853.7,\n",
       "   'vector_string': 'AV:N/AC:M/Au:N/C:N/I:P/A:N'},\n",
       "  {'avg_score': 6.4,\n",
       "   'n_cve': 3925,\n",
       "   'sum_score': 25120.0,\n",
       "   'vector_string': 'AV:L/AC:L/Au:N/C:P/I:P/A:P'},\n",
       "  {'avg_score': 2.9,\n",
       "   'n_cve': 8578,\n",
       "   'sum_score': 24876.2,\n",
       "   'vector_string': 'AV:N/AC:L/Au:N/C:P/I:N/A:N'},\n",
       "  {'avg_score': 6.4,\n",
       "   'n_cve': 3708,\n",
       "   'sum_score': 23731.2,\n",
       "   'vector_string': 'AV:N/AC:L/Au:S/C:P/I:P/A:P'},\n",
       "  {'avg_score': 2.9,\n",
       "   'n_cve': 7501,\n",
       "   'sum_score': 21752.899999999998,\n",
       "   'vector_string': 'AV:N/AC:L/Au:N/C:N/I:N/A:P'}],\n",
       " 'score_type': 'impact_score'}"
      ]
     },
     "metadata": {},
     "output_type": "display_data"
    },
    {
     "name": "stdout",
     "output_type": "stream",
     "text": [
      "\n",
      "\n",
      "2, exploitability_score\n"
     ]
    },
    {
     "data": {
      "text/plain": [
       "{'cvss_ver': 2,\n",
       " 'result': [{'avg_score': 10.0,\n",
       "   'n_cve': 19314,\n",
       "   'sum_score': 193140.0,\n",
       "   'vector_string': 'AV:N/AC:L/Au:N/C:P/I:P/A:P'},\n",
       "  {'avg_score': 8.6,\n",
       "   'n_cve': 13053,\n",
       "   'sum_score': 112255.79999999999,\n",
       "   'vector_string': 'AV:N/AC:M/Au:N/C:N/I:P/A:N'},\n",
       "  {'avg_score': 10.0,\n",
       "   'n_cve': 8578,\n",
       "   'sum_score': 85780.0,\n",
       "   'vector_string': 'AV:N/AC:L/Au:N/C:P/I:N/A:N'},\n",
       "  {'avg_score': 8.6,\n",
       "   'n_cve': 9451,\n",
       "   'sum_score': 81278.59999999999,\n",
       "   'vector_string': 'AV:N/AC:M/Au:N/C:P/I:P/A:P'},\n",
       "  {'avg_score': 10.0,\n",
       "   'n_cve': 7501,\n",
       "   'sum_score': 75010.0,\n",
       "   'vector_string': 'AV:N/AC:L/Au:N/C:N/I:N/A:P'},\n",
       "  {'avg_score': 10.0,\n",
       "   'n_cve': 6822,\n",
       "   'sum_score': 68220.0,\n",
       "   'vector_string': 'AV:N/AC:L/Au:N/C:C/I:C/A:C'},\n",
       "  {'avg_score': 8.6,\n",
       "   'n_cve': 5998,\n",
       "   'sum_score': 51582.799999999996,\n",
       "   'vector_string': 'AV:N/AC:M/Au:N/C:C/I:C/A:C'},\n",
       "  {'avg_score': 8.0,\n",
       "   'n_cve': 3708,\n",
       "   'sum_score': 29664.0,\n",
       "   'vector_string': 'AV:N/AC:L/Au:S/C:P/I:P/A:P'},\n",
       "  {'avg_score': 10.0,\n",
       "   'n_cve': 2859,\n",
       "   'sum_score': 28590.0,\n",
       "   'vector_string': 'AV:N/AC:L/Au:N/C:N/I:P/A:N'},\n",
       "  {'avg_score': 6.8,\n",
       "   'n_cve': 4161,\n",
       "   'sum_score': 28294.8,\n",
       "   'vector_string': 'AV:N/AC:M/Au:S/C:N/I:P/A:N'}],\n",
       " 'score_type': 'exploitability_score'}"
      ]
     },
     "metadata": {},
     "output_type": "display_data"
    },
    {
     "name": "stdout",
     "output_type": "stream",
     "text": [
      "\n",
      "\n",
      "3, impact_score\n"
     ]
    },
    {
     "data": {
      "text/plain": [
       "{'cvss_ver': 3,\n",
       " 'result': [{'avg_score': 5.9,\n",
       "   'n_cve': 6004,\n",
       "   'sum_score': 35423.6,\n",
       "   'vector_string': 'CVSS:3.0/AV:N/AC:L/PR:N/UI:N/S:U/C:H/I:H/A:H'},\n",
       "  {'avg_score': 5.9,\n",
       "   'n_cve': 3392,\n",
       "   'sum_score': 20012.800000000003,\n",
       "   'vector_string': 'CVSS:3.0/AV:L/AC:L/PR:N/UI:R/S:U/C:H/I:H/A:H'},\n",
       "  {'avg_score': 5.9,\n",
       "   'n_cve': 3111,\n",
       "   'sum_score': 18354.9,\n",
       "   'vector_string': 'CVSS:3.0/AV:N/AC:L/PR:N/UI:R/S:U/C:H/I:H/A:H'},\n",
       "  {'avg_score': 5.9,\n",
       "   'n_cve': 2263,\n",
       "   'sum_score': 13351.7,\n",
       "   'vector_string': 'CVSS:3.0/AV:L/AC:L/PR:L/UI:N/S:U/C:H/I:H/A:H'},\n",
       "  {'avg_score': 5.9,\n",
       "   'n_cve': 1707,\n",
       "   'sum_score': 10071.300000000001,\n",
       "   'vector_string': 'CVSS:3.0/AV:N/AC:L/PR:L/UI:N/S:U/C:H/I:H/A:H'},\n",
       "  {'avg_score': 2.7,\n",
       "   'n_cve': 3667,\n",
       "   'sum_score': 9900.900000000001,\n",
       "   'vector_string': 'CVSS:3.0/AV:N/AC:L/PR:N/UI:R/S:C/C:L/I:L/A:N'},\n",
       "  {'avg_score': 3.6,\n",
       "   'n_cve': 2202,\n",
       "   'sum_score': 7927.2,\n",
       "   'vector_string': 'CVSS:3.0/AV:N/AC:L/PR:N/UI:N/S:U/C:N/I:N/A:H'},\n",
       "  {'avg_score': 3.6,\n",
       "   'n_cve': 1862,\n",
       "   'sum_score': 6703.2,\n",
       "   'vector_string': 'CVSS:3.0/AV:N/AC:L/PR:N/UI:N/S:U/C:H/I:N/A:N'},\n",
       "  {'avg_score': 2.7,\n",
       "   'n_cve': 1812,\n",
       "   'sum_score': 4892.400000000001,\n",
       "   'vector_string': 'CVSS:3.0/AV:N/AC:L/PR:L/UI:R/S:C/C:L/I:L/A:N'},\n",
       "  {'avg_score': 5.9,\n",
       "   'n_cve': 695,\n",
       "   'sum_score': 4100.5,\n",
       "   'vector_string': 'CVSS:3.0/AV:N/AC:H/PR:N/UI:N/S:U/C:H/I:H/A:H'}],\n",
       " 'score_type': 'impact_score'}"
      ]
     },
     "metadata": {},
     "output_type": "display_data"
    },
    {
     "name": "stdout",
     "output_type": "stream",
     "text": [
      "\n",
      "\n",
      "3, exploitability_score\n"
     ]
    },
    {
     "data": {
      "text/plain": [
       "{'cvss_ver': 3,\n",
       " 'result': [{'avg_score': 3.9,\n",
       "   'n_cve': 6004,\n",
       "   'sum_score': 23415.6,\n",
       "   'vector_string': 'CVSS:3.0/AV:N/AC:L/PR:N/UI:N/S:U/C:H/I:H/A:H'},\n",
       "  {'avg_score': 2.8,\n",
       "   'n_cve': 3667,\n",
       "   'sum_score': 10267.599999999999,\n",
       "   'vector_string': 'CVSS:3.0/AV:N/AC:L/PR:N/UI:R/S:C/C:L/I:L/A:N'},\n",
       "  {'avg_score': 2.8,\n",
       "   'n_cve': 3111,\n",
       "   'sum_score': 8710.8,\n",
       "   'vector_string': 'CVSS:3.0/AV:N/AC:L/PR:N/UI:R/S:U/C:H/I:H/A:H'},\n",
       "  {'avg_score': 3.9,\n",
       "   'n_cve': 2202,\n",
       "   'sum_score': 8587.8,\n",
       "   'vector_string': 'CVSS:3.0/AV:N/AC:L/PR:N/UI:N/S:U/C:N/I:N/A:H'},\n",
       "  {'avg_score': 3.9,\n",
       "   'n_cve': 1862,\n",
       "   'sum_score': 7261.8,\n",
       "   'vector_string': 'CVSS:3.0/AV:N/AC:L/PR:N/UI:N/S:U/C:H/I:N/A:N'},\n",
       "  {'avg_score': 1.8,\n",
       "   'n_cve': 3392,\n",
       "   'sum_score': 6105.6,\n",
       "   'vector_string': 'CVSS:3.0/AV:L/AC:L/PR:N/UI:R/S:U/C:H/I:H/A:H'},\n",
       "  {'avg_score': 2.8,\n",
       "   'n_cve': 1707,\n",
       "   'sum_score': 4779.599999999999,\n",
       "   'vector_string': 'CVSS:3.0/AV:N/AC:L/PR:L/UI:N/S:U/C:H/I:H/A:H'},\n",
       "  {'avg_score': 2.3,\n",
       "   'n_cve': 1812,\n",
       "   'sum_score': 4167.599999999999,\n",
       "   'vector_string': 'CVSS:3.0/AV:N/AC:L/PR:L/UI:R/S:C/C:L/I:L/A:N'},\n",
       "  {'avg_score': 3.9,\n",
       "   'n_cve': 1053,\n",
       "   'sum_score': 4106.7,\n",
       "   'vector_string': 'CVSS:3.0/AV:N/AC:L/PR:N/UI:N/S:U/C:N/I:H/A:N'},\n",
       "  {'avg_score': 1.8,\n",
       "   'n_cve': 2263,\n",
       "   'sum_score': 4073.4,\n",
       "   'vector_string': 'CVSS:3.0/AV:L/AC:L/PR:L/UI:N/S:U/C:H/I:H/A:H'}],\n",
       " 'score_type': 'exploitability_score'}"
      ]
     },
     "metadata": {},
     "output_type": "display_data"
    },
    {
     "name": "stdout",
     "output_type": "stream",
     "text": [
      "\n",
      "\n"
     ]
    }
   ],
   "source": [
    "# Top 10 vulnerabilities that have the highest impact or highest exploitability scores depending on the CVSS ver (2 or 3)\n",
    "for i in [2,3]:\n",
    "    for j in ['impact_score','exploitability_score']:\n",
    "        response_cve = requests.get(base_url + f'/top_vul/{i}/{j}')\n",
    "        response = response_cve.json()\n",
    "        print(f'{i}, {j}')\n",
    "        display(response)\n",
    "        print('\\n')"
   ]
  },
  {
   "cell_type": "code",
   "execution_count": 62,
   "id": "aed9ae54-86f2-4121-a796-66c5aaea8d7b",
   "metadata": {},
   "outputs": [
    {
     "data": {
      "text/plain": [
       "{'result': [{'base_score': 7.5,\n",
       "   'base_severity': 'HIGH',\n",
       "   'cve': 'CVE-2000-0388',\n",
       "   'cvss_ver': 2,\n",
       "   'exploitability_score': 10.0,\n",
       "   'id': 7,\n",
       "   'impact_score': 6.4,\n",
       "   'last_ingested': '2024-07-21 19:07:24.752358',\n",
       "   'last_modified': '2008-09-10T19:04:33.930',\n",
       "   'published': '1990-05-09T04:00:00.000',\n",
       "   'vector_string_v2': 'AV:N/AC:L/Au:N/C:P/I:P/A:P',\n",
       "   'vector_string_v3': None,\n",
       "   'vuln_status': 'ANALYZED'}],\n",
       " 'type': 'cve'}"
      ]
     },
     "execution_count": 62,
     "metadata": {},
     "output_type": "execute_result"
    }
   ],
   "source": [
    "response_cve = requests.get(base_url + '/cve_or_prod/cve' + '/CVE-2000-0388')\n",
    "\n",
    "response_cve.json()"
   ]
  },
  {
   "cell_type": "code",
   "execution_count": null,
   "id": "5621d9a5-cc2b-448e-82e0-93f1288c8173",
   "metadata": {},
   "outputs": [],
   "source": []
  }
 ],
 "metadata": {
  "kernelspec": {
   "display_name": "Python 3 (ipykernel)",
   "language": "python",
   "name": "python3"
  },
  "language_info": {
   "codemirror_mode": {
    "name": "ipython",
    "version": 3
   },
   "file_extension": ".py",
   "mimetype": "text/x-python",
   "name": "python",
   "nbconvert_exporter": "python",
   "pygments_lexer": "ipython3",
   "version": "3.9.6"
  }
 },
 "nbformat": 4,
 "nbformat_minor": 5
}
